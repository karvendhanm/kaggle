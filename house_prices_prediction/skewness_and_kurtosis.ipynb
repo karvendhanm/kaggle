{
 "cells": [
  {
   "cell_type": "code",
   "execution_count": 65,
   "id": "cac0883b",
   "metadata": {},
   "outputs": [],
   "source": [
    "from IPython.core.interactiveshell import InteractiveShell\n",
    "InteractiveShell.ast_node_interactivity = \"all\""
   ]
  },
  {
   "cell_type": "code",
   "execution_count": 66,
   "id": "1819477f",
   "metadata": {},
   "outputs": [
    {
     "data": {
      "text/html": [
       "<style type=\"text/css\">\n",
       "table.dataframe td, table.dataframe th {\n",
       "    border: 1px  black solid !important;\n",
       "  color: black !important;\n",
       "}\n",
       "</style>\n"
      ],
      "text/plain": [
       "<IPython.core.display.HTML object>"
      ]
     },
     "metadata": {},
     "output_type": "display_data"
    }
   ],
   "source": [
    "%%HTML\n",
    "<style type=\"text/css\">\n",
    "table.dataframe td, table.dataframe th {\n",
    "    border: 1px  black solid !important;\n",
    "  color: black !important;\n",
    "}\n",
    "</style>"
   ]
  },
  {
   "cell_type": "code",
   "execution_count": 67,
   "id": "a693f89b",
   "metadata": {},
   "outputs": [],
   "source": [
    "import matplotlib.pyplot as plt\n",
    "import numpy as np\n",
    "import pandas as pd\n",
    "import seaborn as sns\n",
    "\n",
    "from scipy.stats import skew, kurtosis, boxcox"
   ]
  },
  {
   "cell_type": "code",
   "execution_count": 68,
   "id": "2108954c",
   "metadata": {},
   "outputs": [
    {
     "data": {
      "text/html": [
       "<div>\n",
       "<style scoped>\n",
       "    .dataframe tbody tr th:only-of-type {\n",
       "        vertical-align: middle;\n",
       "    }\n",
       "\n",
       "    .dataframe tbody tr th {\n",
       "        vertical-align: top;\n",
       "    }\n",
       "\n",
       "    .dataframe thead th {\n",
       "        text-align: right;\n",
       "    }\n",
       "</style>\n",
       "<table border=\"1\" class=\"dataframe\">\n",
       "  <thead>\n",
       "    <tr style=\"text-align: right;\">\n",
       "      <th></th>\n",
       "      <th>Id</th>\n",
       "      <th>LotFrontage</th>\n",
       "      <th>LotArea</th>\n",
       "      <th>Neighborhood</th>\n",
       "      <th>Condition1</th>\n",
       "      <th>Condition2</th>\n",
       "      <th>OverallQual</th>\n",
       "      <th>OverallCond</th>\n",
       "      <th>YearBuilt</th>\n",
       "      <th>YearRemodAdd</th>\n",
       "      <th>...</th>\n",
       "      <th>MSSubClass_60</th>\n",
       "      <th>MSSubClass_70</th>\n",
       "      <th>MSSubClass_75</th>\n",
       "      <th>MSSubClass_80</th>\n",
       "      <th>MSSubClass_85</th>\n",
       "      <th>MSSubClass_90</th>\n",
       "      <th>MSSubClass_120</th>\n",
       "      <th>MSSubClass_160</th>\n",
       "      <th>MSSubClass_180</th>\n",
       "      <th>MSSubClass_190</th>\n",
       "    </tr>\n",
       "  </thead>\n",
       "  <tbody>\n",
       "    <tr>\n",
       "      <th>0</th>\n",
       "      <td>1</td>\n",
       "      <td>65.0</td>\n",
       "      <td>8450</td>\n",
       "      <td>CollgCr</td>\n",
       "      <td>Norm</td>\n",
       "      <td>Norm</td>\n",
       "      <td>7</td>\n",
       "      <td>5</td>\n",
       "      <td>2003</td>\n",
       "      <td>2003</td>\n",
       "      <td>...</td>\n",
       "      <td>1.0</td>\n",
       "      <td>0.0</td>\n",
       "      <td>0.0</td>\n",
       "      <td>0.0</td>\n",
       "      <td>0.0</td>\n",
       "      <td>0.0</td>\n",
       "      <td>0.0</td>\n",
       "      <td>0.0</td>\n",
       "      <td>0.0</td>\n",
       "      <td>0.0</td>\n",
       "    </tr>\n",
       "    <tr>\n",
       "      <th>1</th>\n",
       "      <td>2</td>\n",
       "      <td>80.0</td>\n",
       "      <td>9600</td>\n",
       "      <td>Veenker</td>\n",
       "      <td>Feedr</td>\n",
       "      <td>Norm</td>\n",
       "      <td>6</td>\n",
       "      <td>8</td>\n",
       "      <td>1976</td>\n",
       "      <td>1976</td>\n",
       "      <td>...</td>\n",
       "      <td>0.0</td>\n",
       "      <td>0.0</td>\n",
       "      <td>0.0</td>\n",
       "      <td>0.0</td>\n",
       "      <td>0.0</td>\n",
       "      <td>0.0</td>\n",
       "      <td>0.0</td>\n",
       "      <td>0.0</td>\n",
       "      <td>0.0</td>\n",
       "      <td>0.0</td>\n",
       "    </tr>\n",
       "    <tr>\n",
       "      <th>2</th>\n",
       "      <td>3</td>\n",
       "      <td>68.0</td>\n",
       "      <td>11250</td>\n",
       "      <td>CollgCr</td>\n",
       "      <td>Norm</td>\n",
       "      <td>Norm</td>\n",
       "      <td>7</td>\n",
       "      <td>5</td>\n",
       "      <td>2001</td>\n",
       "      <td>2002</td>\n",
       "      <td>...</td>\n",
       "      <td>1.0</td>\n",
       "      <td>0.0</td>\n",
       "      <td>0.0</td>\n",
       "      <td>0.0</td>\n",
       "      <td>0.0</td>\n",
       "      <td>0.0</td>\n",
       "      <td>0.0</td>\n",
       "      <td>0.0</td>\n",
       "      <td>0.0</td>\n",
       "      <td>0.0</td>\n",
       "    </tr>\n",
       "    <tr>\n",
       "      <th>3</th>\n",
       "      <td>4</td>\n",
       "      <td>60.0</td>\n",
       "      <td>9550</td>\n",
       "      <td>Crawfor</td>\n",
       "      <td>Norm</td>\n",
       "      <td>Norm</td>\n",
       "      <td>7</td>\n",
       "      <td>5</td>\n",
       "      <td>1915</td>\n",
       "      <td>1970</td>\n",
       "      <td>...</td>\n",
       "      <td>0.0</td>\n",
       "      <td>1.0</td>\n",
       "      <td>0.0</td>\n",
       "      <td>0.0</td>\n",
       "      <td>0.0</td>\n",
       "      <td>0.0</td>\n",
       "      <td>0.0</td>\n",
       "      <td>0.0</td>\n",
       "      <td>0.0</td>\n",
       "      <td>0.0</td>\n",
       "    </tr>\n",
       "    <tr>\n",
       "      <th>4</th>\n",
       "      <td>5</td>\n",
       "      <td>84.0</td>\n",
       "      <td>14260</td>\n",
       "      <td>NoRidge</td>\n",
       "      <td>Norm</td>\n",
       "      <td>Norm</td>\n",
       "      <td>8</td>\n",
       "      <td>5</td>\n",
       "      <td>2000</td>\n",
       "      <td>2000</td>\n",
       "      <td>...</td>\n",
       "      <td>1.0</td>\n",
       "      <td>0.0</td>\n",
       "      <td>0.0</td>\n",
       "      <td>0.0</td>\n",
       "      <td>0.0</td>\n",
       "      <td>0.0</td>\n",
       "      <td>0.0</td>\n",
       "      <td>0.0</td>\n",
       "      <td>0.0</td>\n",
       "      <td>0.0</td>\n",
       "    </tr>\n",
       "  </tbody>\n",
       "</table>\n",
       "<p>5 rows × 235 columns</p>\n",
       "</div>"
      ],
      "text/plain": [
       "   Id  LotFrontage  LotArea Neighborhood Condition1 Condition2  OverallQual  \\\n",
       "0   1         65.0     8450      CollgCr       Norm       Norm            7   \n",
       "1   2         80.0     9600      Veenker      Feedr       Norm            6   \n",
       "2   3         68.0    11250      CollgCr       Norm       Norm            7   \n",
       "3   4         60.0     9550      Crawfor       Norm       Norm            7   \n",
       "4   5         84.0    14260      NoRidge       Norm       Norm            8   \n",
       "\n",
       "   OverallCond  YearBuilt  YearRemodAdd  ...  MSSubClass_60  MSSubClass_70  \\\n",
       "0            5       2003          2003  ...            1.0            0.0   \n",
       "1            8       1976          1976  ...            0.0            0.0   \n",
       "2            5       2001          2002  ...            1.0            0.0   \n",
       "3            5       1915          1970  ...            0.0            1.0   \n",
       "4            5       2000          2000  ...            1.0            0.0   \n",
       "\n",
       "   MSSubClass_75  MSSubClass_80  MSSubClass_85  MSSubClass_90  MSSubClass_120  \\\n",
       "0            0.0            0.0            0.0            0.0             0.0   \n",
       "1            0.0            0.0            0.0            0.0             0.0   \n",
       "2            0.0            0.0            0.0            0.0             0.0   \n",
       "3            0.0            0.0            0.0            0.0             0.0   \n",
       "4            0.0            0.0            0.0            0.0             0.0   \n",
       "\n",
       "   MSSubClass_160  MSSubClass_180  MSSubClass_190  \n",
       "0             0.0             0.0             0.0  \n",
       "1             0.0             0.0             0.0  \n",
       "2             0.0             0.0             0.0  \n",
       "3             0.0             0.0             0.0  \n",
       "4             0.0             0.0             0.0  \n",
       "\n",
       "[5 rows x 235 columns]"
      ]
     },
     "execution_count": 68,
     "metadata": {},
     "output_type": "execute_result"
    }
   ],
   "source": [
    "df = pd.read_csv('../output/house_prices_prediction/temp_data.csv')\n",
    "df.head()"
   ]
  },
  {
   "cell_type": "code",
   "execution_count": 69,
   "id": "023052c5",
   "metadata": {},
   "outputs": [
    {
     "data": {
      "text/plain": [
       "(1453, 231)"
      ]
     },
     "execution_count": 69,
     "metadata": {},
     "output_type": "execute_result"
    }
   ],
   "source": [
    "df_numeric = df.select_dtypes(include='number')\n",
    "df_numeric.shape"
   ]
  },
  {
   "cell_type": "code",
   "execution_count": 70,
   "id": "8fe07d29",
   "metadata": {},
   "outputs": [
    {
     "data": {
      "text/plain": [
       "<Axes: xlabel='LotFrontage', ylabel='Count'>"
      ]
     },
     "execution_count": 70,
     "metadata": {},
     "output_type": "execute_result"
    },
    {
     "data": {
      "image/png": "[encoded data removed]",
      "text/plain": [
       "<Figure size 640x480 with 1 Axes>"
      ]
     },
     "metadata": {},
     "output_type": "display_data"
    }
   ],
   "source": [
    "sns.histplot(df_numeric['LotFrontage'], kde=True)"
   ]
  },
  {
   "cell_type": "code",
   "execution_count": 71,
   "id": "9e955763",
   "metadata": {},
   "outputs": [
    {
     "data": {
      "text/plain": [
       "count    1453.000000\n",
       "mean       57.321404\n",
       "std        33.868760\n",
       "min         0.000000\n",
       "25%        42.000000\n",
       "50%        63.000000\n",
       "75%        79.000000\n",
       "max       313.000000\n",
       "Name: LotFrontage, dtype: float64"
      ]
     },
     "execution_count": 71,
     "metadata": {},
     "output_type": "execute_result"
    }
   ],
   "source": [
    "df_numeric['LotFrontage'].describe()"
   ]
  },
  {
   "cell_type": "code",
   "execution_count": 72,
   "id": "eaef2e5e",
   "metadata": {},
   "outputs": [
    {
     "data": {
      "text/plain": [
       "0       4.189655\n",
       "1       4.394449\n",
       "2       4.234107\n",
       "3       4.110874\n",
       "4       4.442651\n",
       "          ...   \n",
       "1448    4.143135\n",
       "1449    4.454347\n",
       "1450    4.204693\n",
       "1451    4.234107\n",
       "1452    4.330733\n",
       "Name: LotFrontage, Length: 1453, dtype: float64"
      ]
     },
     "execution_count": 72,
     "metadata": {},
     "output_type": "execute_result"
    }
   ],
   "source": [
    "log_transformed = np.log1p(df_numeric['LotFrontage'])\n",
    "log_transformed"
   ]
  },
  {
   "cell_type": "code",
   "execution_count": 73,
   "id": "5232a6d6",
   "metadata": {},
   "outputs": [
    {
     "data": {
      "text/plain": [
       "-0.0049672288777894025"
      ]
     },
     "execution_count": 73,
     "metadata": {},
     "output_type": "execute_result"
    }
   ],
   "source": [
    "skew(df_numeric['LotFrontage'])"
   ]
  },
  {
   "cell_type": "code",
   "execution_count": 74,
   "id": "380506f6",
   "metadata": {},
   "outputs": [
    {
     "data": {
      "text/plain": [
       "-1.554368654274307"
      ]
     },
     "execution_count": 74,
     "metadata": {},
     "output_type": "execute_result"
    }
   ],
   "source": [
    "skew(log_transformed)\n",
    "\n",
    "# As can be seen, log transformation is only effective when the data is positively skewed.\n",
    "# If the log transformation is applied to negatively skewed data, the skewness sometimes increases."
   ]
  },
  {
   "cell_type": "code",
   "execution_count": 75,
   "id": "221f62c3",
   "metadata": {},
   "outputs": [
    {
     "data": {
      "text/plain": [
       "<Axes: xlabel='LotFrontage', ylabel='Count'>"
      ]
     },
     "execution_count": 75,
     "metadata": {},
     "output_type": "execute_result"
    },
    {
     "data": {
      "image/png": "[encoded data removed]",
      "text/plain": [
       "<Figure size 640x480 with 1 Axes>"
      ]
     },
     "metadata": {},
     "output_type": "display_data"
    }
   ],
   "source": [
    "sns.histplot(log_transformed, kde=True)"
   ]
  },
  {
   "cell_type": "code",
   "execution_count": 76,
   "id": "1f45a3a7",
   "metadata": {},
   "outputs": [
    {
     "data": {
      "text/html": [
       "<div>\n",
       "<style scoped>\n",
       "    .dataframe tbody tr th:only-of-type {\n",
       "        vertical-align: middle;\n",
       "    }\n",
       "\n",
       "    .dataframe tbody tr th {\n",
       "        vertical-align: top;\n",
       "    }\n",
       "\n",
       "    .dataframe thead th {\n",
       "        text-align: right;\n",
       "    }\n",
       "</style>\n",
       "<table border=\"1\" class=\"dataframe\">\n",
       "  <thead>\n",
       "    <tr style=\"text-align: right;\">\n",
       "      <th></th>\n",
       "      <th>Id</th>\n",
       "      <th>LotFrontage</th>\n",
       "      <th>LotArea</th>\n",
       "      <th>OverallQual</th>\n",
       "      <th>OverallCond</th>\n",
       "      <th>YearBuilt</th>\n",
       "      <th>YearRemodAdd</th>\n",
       "      <th>MasVnrArea</th>\n",
       "      <th>BsmtFinSF1</th>\n",
       "      <th>BsmtFinSF2</th>\n",
       "      <th>...</th>\n",
       "      <th>MSSubClass_60</th>\n",
       "      <th>MSSubClass_70</th>\n",
       "      <th>MSSubClass_75</th>\n",
       "      <th>MSSubClass_80</th>\n",
       "      <th>MSSubClass_85</th>\n",
       "      <th>MSSubClass_90</th>\n",
       "      <th>MSSubClass_120</th>\n",
       "      <th>MSSubClass_160</th>\n",
       "      <th>MSSubClass_180</th>\n",
       "      <th>MSSubClass_190</th>\n",
       "    </tr>\n",
       "  </thead>\n",
       "  <tbody>\n",
       "    <tr>\n",
       "      <th>count</th>\n",
       "      <td>1453.000000</td>\n",
       "      <td>1453.000000</td>\n",
       "      <td>1453.000000</td>\n",
       "      <td>1453.000000</td>\n",
       "      <td>1453.000000</td>\n",
       "      <td>1453.000000</td>\n",
       "      <td>1453.000000</td>\n",
       "      <td>1453.000000</td>\n",
       "      <td>1453.000000</td>\n",
       "      <td>1453.000000</td>\n",
       "      <td>...</td>\n",
       "      <td>1453.000000</td>\n",
       "      <td>1453.000000</td>\n",
       "      <td>1453.000000</td>\n",
       "      <td>1453.000000</td>\n",
       "      <td>1453.000000</td>\n",
       "      <td>1453.000000</td>\n",
       "      <td>1453.000000</td>\n",
       "      <td>1453.000000</td>\n",
       "      <td>1453.000000</td>\n",
       "      <td>1453.000000</td>\n",
       "    </tr>\n",
       "    <tr>\n",
       "      <th>mean</th>\n",
       "      <td>730.368204</td>\n",
       "      <td>57.321404</td>\n",
       "      <td>10389.060564</td>\n",
       "      <td>6.086717</td>\n",
       "      <td>5.578802</td>\n",
       "      <td>1971.148658</td>\n",
       "      <td>1984.783207</td>\n",
       "      <td>101.080523</td>\n",
       "      <td>435.156228</td>\n",
       "      <td>46.773572</td>\n",
       "      <td>...</td>\n",
       "      <td>0.202340</td>\n",
       "      <td>0.041294</td>\n",
       "      <td>0.011012</td>\n",
       "      <td>0.039917</td>\n",
       "      <td>0.013765</td>\n",
       "      <td>0.035788</td>\n",
       "      <td>0.059876</td>\n",
       "      <td>0.043359</td>\n",
       "      <td>0.006882</td>\n",
       "      <td>0.020647</td>\n",
       "    </tr>\n",
       "    <tr>\n",
       "      <th>std</th>\n",
       "      <td>421.996010</td>\n",
       "      <td>33.868760</td>\n",
       "      <td>9741.373971</td>\n",
       "      <td>1.366934</td>\n",
       "      <td>1.110998</td>\n",
       "      <td>30.200682</td>\n",
       "      <td>20.655956</td>\n",
       "      <td>176.564139</td>\n",
       "      <td>428.743644</td>\n",
       "      <td>161.675202</td>\n",
       "      <td>...</td>\n",
       "      <td>0.401883</td>\n",
       "      <td>0.199038</td>\n",
       "      <td>0.104393</td>\n",
       "      <td>0.195833</td>\n",
       "      <td>0.116553</td>\n",
       "      <td>0.185825</td>\n",
       "      <td>0.237339</td>\n",
       "      <td>0.203733</td>\n",
       "      <td>0.082702</td>\n",
       "      <td>0.142248</td>\n",
       "    </tr>\n",
       "    <tr>\n",
       "      <th>min</th>\n",
       "      <td>1.000000</td>\n",
       "      <td>0.000000</td>\n",
       "      <td>1300.000000</td>\n",
       "      <td>1.000000</td>\n",
       "      <td>1.000000</td>\n",
       "      <td>1872.000000</td>\n",
       "      <td>1950.000000</td>\n",
       "      <td>0.000000</td>\n",
       "      <td>0.000000</td>\n",
       "      <td>0.000000</td>\n",
       "      <td>...</td>\n",
       "      <td>0.000000</td>\n",
       "      <td>0.000000</td>\n",
       "      <td>0.000000</td>\n",
       "      <td>0.000000</td>\n",
       "      <td>0.000000</td>\n",
       "      <td>0.000000</td>\n",
       "      <td>0.000000</td>\n",
       "      <td>0.000000</td>\n",
       "      <td>0.000000</td>\n",
       "      <td>0.000000</td>\n",
       "    </tr>\n",
       "    <tr>\n",
       "      <th>25%</th>\n",
       "      <td>364.000000</td>\n",
       "      <td>42.000000</td>\n",
       "      <td>7535.000000</td>\n",
       "      <td>5.000000</td>\n",
       "      <td>5.000000</td>\n",
       "      <td>1954.000000</td>\n",
       "      <td>1966.000000</td>\n",
       "      <td>0.000000</td>\n",
       "      <td>0.000000</td>\n",
       "      <td>0.000000</td>\n",
       "      <td>...</td>\n",
       "      <td>0.000000</td>\n",
       "      <td>0.000000</td>\n",
       "      <td>0.000000</td>\n",
       "      <td>0.000000</td>\n",
       "      <td>0.000000</td>\n",
       "      <td>0.000000</td>\n",
       "      <td>0.000000</td>\n",
       "      <td>0.000000</td>\n",
       "      <td>0.000000</td>\n",
       "      <td>0.000000</td>\n",
       "    </tr>\n",
       "    <tr>\n",
       "      <th>50%</th>\n",
       "      <td>731.000000</td>\n",
       "      <td>63.000000</td>\n",
       "      <td>9453.000000</td>\n",
       "      <td>6.000000</td>\n",
       "      <td>5.000000</td>\n",
       "      <td>1972.000000</td>\n",
       "      <td>1993.000000</td>\n",
       "      <td>0.000000</td>\n",
       "      <td>380.000000</td>\n",
       "      <td>0.000000</td>\n",
       "      <td>...</td>\n",
       "      <td>0.000000</td>\n",
       "      <td>0.000000</td>\n",
       "      <td>0.000000</td>\n",
       "      <td>0.000000</td>\n",
       "      <td>0.000000</td>\n",
       "      <td>0.000000</td>\n",
       "      <td>0.000000</td>\n",
       "      <td>0.000000</td>\n",
       "      <td>0.000000</td>\n",
       "      <td>0.000000</td>\n",
       "    </tr>\n",
       "    <tr>\n",
       "      <th>75%</th>\n",
       "      <td>1095.000000</td>\n",
       "      <td>79.000000</td>\n",
       "      <td>11553.000000</td>\n",
       "      <td>7.000000</td>\n",
       "      <td>6.000000</td>\n",
       "      <td>2000.000000</td>\n",
       "      <td>2004.000000</td>\n",
       "      <td>162.000000</td>\n",
       "      <td>705.000000</td>\n",
       "      <td>0.000000</td>\n",
       "      <td>...</td>\n",
       "      <td>0.000000</td>\n",
       "      <td>0.000000</td>\n",
       "      <td>0.000000</td>\n",
       "      <td>0.000000</td>\n",
       "      <td>0.000000</td>\n",
       "      <td>0.000000</td>\n",
       "      <td>0.000000</td>\n",
       "      <td>0.000000</td>\n",
       "      <td>0.000000</td>\n",
       "      <td>0.000000</td>\n",
       "    </tr>\n",
       "    <tr>\n",
       "      <th>max</th>\n",
       "      <td>1460.000000</td>\n",
       "      <td>313.000000</td>\n",
       "      <td>215245.000000</td>\n",
       "      <td>10.000000</td>\n",
       "      <td>9.000000</td>\n",
       "      <td>2009.000000</td>\n",
       "      <td>2010.000000</td>\n",
       "      <td>1600.000000</td>\n",
       "      <td>2188.000000</td>\n",
       "      <td>1474.000000</td>\n",
       "      <td>...</td>\n",
       "      <td>1.000000</td>\n",
       "      <td>1.000000</td>\n",
       "      <td>1.000000</td>\n",
       "      <td>1.000000</td>\n",
       "      <td>1.000000</td>\n",
       "      <td>1.000000</td>\n",
       "      <td>1.000000</td>\n",
       "      <td>1.000000</td>\n",
       "      <td>1.000000</td>\n",
       "      <td>1.000000</td>\n",
       "    </tr>\n",
       "  </tbody>\n",
       "</table>\n",
       "<p>8 rows × 231 columns</p>\n",
       "</div>"
      ],
      "text/plain": [
       "                Id  LotFrontage        LotArea  OverallQual  OverallCond  \\\n",
       "count  1453.000000  1453.000000    1453.000000  1453.000000  1453.000000   \n",
       "mean    730.368204    57.321404   10389.060564     6.086717     5.578802   \n",
       "std     421.996010    33.868760    9741.373971     1.366934     1.110998   \n",
       "min       1.000000     0.000000    1300.000000     1.000000     1.000000   \n",
       "25%     364.000000    42.000000    7535.000000     5.000000     5.000000   \n",
       "50%     731.000000    63.000000    9453.000000     6.000000     5.000000   \n",
       "75%    1095.000000    79.000000   11553.000000     7.000000     6.000000   \n",
       "max    1460.000000   313.000000  215245.000000    10.000000     9.000000   \n",
       "\n",
       "         YearBuilt  YearRemodAdd   MasVnrArea   BsmtFinSF1   BsmtFinSF2  ...  \\\n",
       "count  1453.000000   1453.000000  1453.000000  1453.000000  1453.000000  ...   \n",
       "mean   1971.148658   1984.783207   101.080523   435.156228    46.773572  ...   \n",
       "std      30.200682     20.655956   176.564139   428.743644   161.675202  ...   \n",
       "min    1872.000000   1950.000000     0.000000     0.000000     0.000000  ...   \n",
       "25%    1954.000000   1966.000000     0.000000     0.000000     0.000000  ...   \n",
       "50%    1972.000000   1993.000000     0.000000   380.000000     0.000000  ...   \n",
       "75%    2000.000000   2004.000000   162.000000   705.000000     0.000000  ...   \n",
       "max    2009.000000   2010.000000  1600.000000  2188.000000  1474.000000  ...   \n",
       "\n",
       "       MSSubClass_60  MSSubClass_70  MSSubClass_75  MSSubClass_80  \\\n",
       "count    1453.000000    1453.000000    1453.000000    1453.000000   \n",
       "mean        0.202340       0.041294       0.011012       0.039917   \n",
       "std         0.401883       0.199038       0.104393       0.195833   \n",
       "min         0.000000       0.000000       0.000000       0.000000   \n",
       "25%         0.000000       0.000000       0.000000       0.000000   \n",
       "50%         0.000000       0.000000       0.000000       0.000000   \n",
       "75%         0.000000       0.000000       0.000000       0.000000   \n",
       "max         1.000000       1.000000       1.000000       1.000000   \n",
       "\n",
       "       MSSubClass_85  MSSubClass_90  MSSubClass_120  MSSubClass_160  \\\n",
       "count    1453.000000    1453.000000     1453.000000     1453.000000   \n",
       "mean        0.013765       0.035788        0.059876        0.043359   \n",
       "std         0.116553       0.185825        0.237339        0.203733   \n",
       "min         0.000000       0.000000        0.000000        0.000000   \n",
       "25%         0.000000       0.000000        0.000000        0.000000   \n",
       "50%         0.000000       0.000000        0.000000        0.000000   \n",
       "75%         0.000000       0.000000        0.000000        0.000000   \n",
       "max         1.000000       1.000000        1.000000        1.000000   \n",
       "\n",
       "       MSSubClass_180  MSSubClass_190  \n",
       "count     1453.000000     1453.000000  \n",
       "mean         0.006882        0.020647  \n",
       "std          0.082702        0.142248  \n",
       "min          0.000000        0.000000  \n",
       "25%          0.000000        0.000000  \n",
       "50%          0.000000        0.000000  \n",
       "75%          0.000000        0.000000  \n",
       "max          1.000000        1.000000  \n",
       "\n",
       "[8 rows x 231 columns]"
      ]
     },
     "execution_count": 76,
     "metadata": {},
     "output_type": "execute_result"
    }
   ],
   "source": [
    "df_numeric.describe()"
   ]
  },
  {
   "cell_type": "code",
   "execution_count": 77,
   "id": "0f93d9c4",
   "metadata": {},
   "outputs": [
    {
     "data": {
      "text/plain": [
       "2.6705440677226044"
      ]
     },
     "execution_count": 77,
     "metadata": {},
     "output_type": "execute_result"
    }
   ],
   "source": [
    "# In LotArea, mean is greater than median, so positive skewness and log transformation should work\n",
    "\n",
    "skew(df_numeric['MasVnrArea'])"
   ]
  },
  {
   "cell_type": "code",
   "execution_count": 78,
   "id": "27de03d9",
   "metadata": {},
   "outputs": [
    {
     "data": {
      "text/plain": [
       "0.507887027388046"
      ]
     },
     "execution_count": 78,
     "metadata": {},
     "output_type": "execute_result"
    }
   ],
   "source": [
    "skew(np.log1p(df_numeric['MasVnrArea'])) \n",
    "# the skewness has been considerably reduced because of the log transformation"
   ]
  },
  {
   "cell_type": "code",
   "execution_count": 79,
   "id": "b3f522da",
   "metadata": {},
   "outputs": [
    {
     "data": {
      "text/plain": [
       "<Axes: xlabel='EnclosedPorch', ylabel='Count'>"
      ]
     },
     "execution_count": 79,
     "metadata": {},
     "output_type": "execute_result"
    },
    {
     "data": {
      "image/png": "[encoded data removed]",
      "text/plain": [
       "<Figure size 640x480 with 1 Axes>"
      ]
     },
     "metadata": {},
     "output_type": "display_data"
    }
   ],
   "source": [
    "sns.histplot(df_numeric['EnclosedPorch'], kde=True)"
   ]
  },
  {
   "cell_type": "code",
   "execution_count": 80,
   "id": "dffc609e",
   "metadata": {},
   "outputs": [
    {
     "data": {
      "text/plain": [
       "<Axes: xlabel='EnclosedPorch', ylabel='Count'>"
      ]
     },
     "execution_count": 80,
     "metadata": {},
     "output_type": "execute_result"
    },
    {
     "data": {
      "image/png": "[encoded data removed]",
      "text/plain": [
       "<Figure size 640x480 with 1 Axes>"
      ]
     },
     "metadata": {},
     "output_type": "display_data"
    }
   ],
   "source": [
    "sns.histplot(np.log1p(df_numeric['EnclosedPorch']), kde=True)"
   ]
  },
  {
   "cell_type": "code",
   "execution_count": 81,
   "id": "79c8688b",
   "metadata": {},
   "outputs": [],
   "source": [
    "# Kurtosis, a statistical measure that describes the shape of the peak and the tails when compared to\n",
    "# a normal distribution."
   ]
  },
  {
   "cell_type": "code",
   "execution_count": 82,
   "id": "909320ca",
   "metadata": {},
   "outputs": [
    {
     "data": {
      "text/plain": [
       "1.9619351014490416"
      ]
     },
     "execution_count": 82,
     "metadata": {},
     "output_type": "execute_result"
    }
   ],
   "source": [
    "kurtosis(df_numeric['LotFrontage'])"
   ]
  },
  {
   "cell_type": "code",
   "execution_count": 83,
   "id": "4e69404a",
   "metadata": {},
   "outputs": [
    {
     "data": {
      "text/plain": [
       "<Axes: xlabel='LotFrontage', ylabel='Count'>"
      ]
     },
     "execution_count": 83,
     "metadata": {},
     "output_type": "execute_result"
    },
    {
     "data": {
      "image/png": "[encoded data removed]",
      "text/plain": [
       "<Figure size 640x480 with 1 Axes>"
      ]
     },
     "metadata": {},
     "output_type": "display_data"
    }
   ],
   "source": [
    "sns.histplot(df_numeric['LotFrontage'], kde=True)"
   ]
  },
  {
   "cell_type": "code",
   "execution_count": 84,
   "id": "e4758c64",
   "metadata": {},
   "outputs": [
    {
     "data": {
      "text/plain": [
       "<Axes: xlabel='Street_Pave', ylabel='Count'>"
      ]
     },
     "execution_count": 84,
     "metadata": {},
     "output_type": "execute_result"
    },
    {
     "data": {
      "image/png": "[encoded data removed]",
      "text/plain": [
       "<Figure size 640x480 with 1 Axes>"
      ]
     },
     "metadata": {},
     "output_type": "display_data"
    }
   ],
   "source": [
    "sns.histplot(df_numeric['Street_Pave'], kde=True)"
   ]
  },
  {
   "cell_type": "code",
   "execution_count": 85,
   "id": "80c4626d",
   "metadata": {},
   "outputs": [
    {
     "data": {
      "text/plain": [
       "0.6176052188984049"
      ]
     },
     "execution_count": 85,
     "metadata": {},
     "output_type": "execute_result"
    }
   ],
   "source": [
    "kurtosis(np.log1p(df_numeric['LotFrontage']))"
   ]
  },
  {
   "cell_type": "code",
   "execution_count": 86,
   "id": "6e3ed94f",
   "metadata": {},
   "outputs": [],
   "source": [
    "skew_kurtosis_data = []\n",
    "for col in df_numeric.columns:\n",
    "    data = df_numeric[col]\n",
    "    log_transformed = np.log1p(df_numeric[col])\n",
    "    skew_kurtosis_data.append({\n",
    "        'name':col,\n",
    "        'normal_mean': data.mean(),\n",
    "        'normal_median': data.median(),\n",
    "        'normal_skew':skew(data),\n",
    "        'normal_kurtosis': kurtosis(data),\n",
    "        'ln_mean': log_transformed.mean(),\n",
    "        'ln_median': log_transformed.median(),\n",
    "        'ln_skew': skew(log_transformed),\n",
    "        'ln_kurtosis': kurtosis(log_transformed),\n",
    "    })"
   ]
  },
  {
   "cell_type": "code",
   "execution_count": 87,
   "id": "523396f5",
   "metadata": {},
   "outputs": [],
   "source": [
    "df_skew_kurtosis = pd.DataFrame(skew_kurtosis_data)\n",
    "df_skew_kurtosis.to_csv('../output/house_prices_prediction/skew_kurtosis_data.csv', index=False, index_label=False)"
   ]
  },
  {
   "cell_type": "code",
   "execution_count": 88,
   "id": "9bf83d53",
   "metadata": {},
   "outputs": [],
   "source": [
    "data_boxcox, best_lambda = boxcox(df_numeric['LotFrontage'] + 1)"
   ]
  },
  {
   "cell_type": "code",
   "execution_count": 89,
   "id": "e88b2d43",
   "metadata": {},
   "outputs": [
    {
     "data": {
      "text/plain": [
       "0.7619928916219769"
      ]
     },
     "execution_count": 89,
     "metadata": {},
     "output_type": "execute_result"
    }
   ],
   "source": [
    "best_lambda"
   ]
  },
  {
   "cell_type": "code",
   "execution_count": 95,
   "id": "963aa952",
   "metadata": {},
   "outputs": [
    {
     "data": {
      "text/plain": [
       "0       65.0\n",
       "1       80.0\n",
       "2       68.0\n",
       "3       60.0\n",
       "4       84.0\n",
       "        ... \n",
       "1448    62.0\n",
       "1449    85.0\n",
       "1450    66.0\n",
       "1451    68.0\n",
       "1452    75.0\n",
       "Name: LotFrontage, Length: 1453, dtype: float64"
      ]
     },
     "execution_count": 95,
     "metadata": {},
     "output_type": "execute_result"
    }
   ],
   "source": [
    "df_numeric['LotFrontage']"
   ]
  },
  {
   "cell_type": "code",
   "execution_count": 96,
   "id": "d1227b4d",
   "metadata": {},
   "outputs": [
    {
     "data": {
      "text/plain": [
       "array([30.64190152, 36.03855414, 31.74279295, ..., 31.01016335,\n",
       "       31.74279295, 34.26844846])"
      ]
     },
     "execution_count": 96,
     "metadata": {},
     "output_type": "execute_result"
    }
   ],
   "source": [
    "data_boxcox"
   ]
  },
  {
   "cell_type": "code",
   "execution_count": 90,
   "id": "11121f6f",
   "metadata": {},
   "outputs": [
    {
     "data": {
      "text/plain": [
       "<Axes: xlabel='LotFrontage', ylabel='Count'>"
      ]
     },
     "execution_count": 90,
     "metadata": {},
     "output_type": "execute_result"
    },
    {
     "data": {
      "text/plain": [
       "<Axes: ylabel='Count'>"
      ]
     },
     "execution_count": 90,
     "metadata": {},
     "output_type": "execute_result"
    },
    {
     "data": {
      "image/png": "[encoded data removed]",
      "text/plain": [
       "<Figure size 1200x600 with 2 Axes>"
      ]
     },
     "metadata": {},
     "output_type": "display_data"
    }
   ],
   "source": [
    "fig, ax = plt.subplots(1, 2, figsize=(12, 6))\n",
    "sns.histplot(df_numeric['LotFrontage'], kde=True, ax=ax[0])\n",
    "sns.histplot(data_boxcox, kde=True, ax=ax[1])\n",
    "plt.show()"
   ]
  },
  {
   "cell_type": "code",
   "execution_count": 91,
   "id": "c431a43f",
   "metadata": {},
   "outputs": [
    {
     "data": {
      "text/plain": [
       "-0.0049672288777894025"
      ]
     },
     "execution_count": 91,
     "metadata": {},
     "output_type": "execute_result"
    },
    {
     "data": {
      "text/plain": [
       "1.9619351014490416"
      ]
     },
     "execution_count": 91,
     "metadata": {},
     "output_type": "execute_result"
    }
   ],
   "source": [
    "skew(df_numeric['LotFrontage'])\n",
    "kurtosis(df_numeric['LotFrontage'])"
   ]
  },
  {
   "cell_type": "code",
   "execution_count": 94,
   "id": "f8317ac8",
   "metadata": {},
   "outputs": [
    {
     "data": {
      "text/plain": [
       "-0.6068024334815213"
      ]
     },
     "execution_count": 94,
     "metadata": {},
     "output_type": "execute_result"
    },
    {
     "data": {
      "text/plain": [
       "0.2776775144023742"
      ]
     },
     "execution_count": 94,
     "metadata": {},
     "output_type": "execute_result"
    }
   ],
   "source": [
    "skew(data_boxcox)\n",
    "kurtosis(data_boxcox)"
   ]
  },
  {
   "cell_type": "code",
   "execution_count": null,
   "id": "f581ed5e",
   "metadata": {},
   "outputs": [],
   "source": []
  }
 ],
 "metadata": {
  "kernelspec": {
   "display_name": "Python 3 (ipykernel)",
   "language": "python",
   "name": "python3"
  },
  "language_info": {
   "codemirror_mode": {
    "name": "ipython",
    "version": 3
   },
   "file_extension": ".py",
   "mimetype": "text/x-python",
   "name": "python",
   "nbconvert_exporter": "python",
   "pygments_lexer": "ipython3",
   "version": "3.9.17"
  }
 },
 "nbformat": 4,
 "nbformat_minor": 5
}
