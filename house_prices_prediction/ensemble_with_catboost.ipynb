{
 "cells": [
  {
   "cell_type": "code",
   "execution_count": 8,
   "id": "d3567833",
   "metadata": {},
   "outputs": [
    {
     "name": "stdout",
     "output_type": "stream",
     "text": [
      "/home/karvsmech/Projects/kaggle/input/house_prices_prediction/data_description.txt\n",
      "/home/karvsmech/Projects/kaggle/input/house_prices_prediction/test.csv\n",
      "/home/karvsmech/Projects/kaggle/input/house_prices_prediction/train.csv\n",
      "/home/karvsmech/Projects/kaggle/input/house_prices_prediction/sample_submission.csv\n"
     ]
    }
   ],
   "source": [
    "import pandas as pd\n",
    "\n",
    "import os\n",
    "for dirname, _, filenames in os.walk('/home/karvsmech/Projects/kaggle/input'):\n",
    "    for filename in filenames:\n",
    "        print(os.path.join(dirname, filename))\n",
    "        \n",
    "pd.options.display.max_columns = 100\n",
    "pd.options.display.max_rows =  200\n",
    "pd.options.display.max_info_rows = 1690785\n",
    "pd.options.display.max_info_columns = 200\n",
    "pd.options.display.float_format = '{:,.2f}'.format\n",
    "pd.options.display.date_dayfirst = True\n",
    "pd.options.mode.chained_assignment = None    "
   ]
  },
  {
   "cell_type": "code",
   "execution_count": 9,
   "id": "469bef26",
   "metadata": {},
   "outputs": [
    {
     "name": "stdout",
     "output_type": "stream",
     "text": [
      "Help on DictWrapper in module pandas._config.config object:\n",
      "\n",
      "class DictWrapper(builtins.object)\n",
      " |  DictWrapper(d: 'dict[str, Any]', prefix: 'str' = '') -> 'None'\n",
      " |  \n",
      " |  provide attribute-style access to a nested dict\n",
      " |  \n",
      " |  Methods defined here:\n",
      " |  \n",
      " |  __dir__(self) -> 'Iterable[str]'\n",
      " |      Default dir() implementation.\n",
      " |  \n",
      " |  __getattr__(self, key: 'str')\n",
      " |  \n",
      " |  __init__(self, d: 'dict[str, Any]', prefix: 'str' = '') -> 'None'\n",
      " |      Initialize self.  See help(type(self)) for accurate signature.\n",
      " |  \n",
      " |  __setattr__(self, key: 'str', val: 'Any') -> 'None'\n",
      " |      Implement setattr(self, name, value).\n",
      " |  \n",
      " |  ----------------------------------------------------------------------\n",
      " |  Data descriptors defined here:\n",
      " |  \n",
      " |  __dict__\n",
      " |      dictionary for instance variables (if defined)\n",
      " |  \n",
      " |  __weakref__\n",
      " |      list of weak references to the object (if defined)\n",
      "\n"
     ]
    }
   ],
   "source": [
    "help(pd.options)"
   ]
  },
  {
   "cell_type": "code",
   "execution_count": null,
   "id": "3686ad0a",
   "metadata": {},
   "outputs": [],
   "source": []
  }
 ],
 "metadata": {
  "kernelspec": {
   "display_name": "Python 3 (ipykernel)",
   "language": "python",
   "name": "python3"
  },
  "language_info": {
   "codemirror_mode": {
    "name": "ipython",
    "version": 3
   },
   "file_extension": ".py",
   "mimetype": "text/x-python",
   "name": "python",
   "nbconvert_exporter": "python",
   "pygments_lexer": "ipython3",
   "version": "3.9.17"
  }
 },
 "nbformat": 4,
 "nbformat_minor": 5
}
